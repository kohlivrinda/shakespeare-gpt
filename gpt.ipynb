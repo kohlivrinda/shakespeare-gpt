{
  "nbformat": 4,
  "nbformat_minor": 0,
  "metadata": {
    "colab": {
      "provenance": []
    },
    "kernelspec": {
      "name": "python3",
      "display_name": "Python 3"
    },
    "language_info": {
      "name": "python"
    },
    "accelerator": "GPU",
    "gpuClass": "standard"
  },
  "cells": [
    {
      "cell_type": "code",
      "execution_count": 1,
      "metadata": {
        "id": "aAl_thfkF7Oo"
      },
      "outputs": [],
      "source": [
        "import torch \n",
        "import torch.nn as nn\n",
        "from torch.nn import functional as F\n"
      ]
    },
    {
      "cell_type": "code",
      "source": [
        "block_size = 256\n",
        "batch_size=64\n",
        "max_iters=5000\n",
        "eval_interval=500\n",
        "learning_rate=3e-4\n",
        "device = 'cuda' if torch.cuda.is_available() else 'cpu'\n",
        "eval_iters=200\n",
        "n_embd=384\n",
        "n_layer=6\n",
        "n_head=6\n",
        "dropout=0.2"
      ],
      "metadata": {
        "id": "10jpRnKlGh4F"
      },
      "execution_count": 2,
      "outputs": []
    },
    {
      "cell_type": "code",
      "source": [
        "torch.manual_seed(1337)"
      ],
      "metadata": {
        "colab": {
          "base_uri": "https://localhost:8080/"
        },
        "id": "BGMNb4MpGjtl",
        "outputId": "acfcac11-fb89-409f-c82e-7ffb0775ec3b"
      },
      "execution_count": 3,
      "outputs": [
        {
          "output_type": "execute_result",
          "data": {
            "text/plain": [
              "<torch._C.Generator at 0x7f882cac09b0>"
            ]
          },
          "metadata": {},
          "execution_count": 3
        }
      ]
    },
    {
      "cell_type": "code",
      "source": [
        "!wget https://raw.githubusercontent.com/karpathy/char-rnn/master/data/tinyshakespeare/input.txt\n",
        "with open('input.txt', 'r', encoding='utf-8') as f:\n",
        "  text=f.read()"
      ],
      "metadata": {
        "colab": {
          "base_uri": "https://localhost:8080/"
        },
        "id": "LdEG63TxGmdq",
        "outputId": "0059f12f-e520-4b9d-bf70-3b23fd9facda"
      },
      "execution_count": 4,
      "outputs": [
        {
          "output_type": "stream",
          "name": "stdout",
          "text": [
            "--2023-02-08 18:32:57--  https://raw.githubusercontent.com/karpathy/char-rnn/master/data/tinyshakespeare/input.txt\n",
            "Resolving raw.githubusercontent.com (raw.githubusercontent.com)... 185.199.108.133, 185.199.109.133, 185.199.110.133, ...\n",
            "Connecting to raw.githubusercontent.com (raw.githubusercontent.com)|185.199.108.133|:443... connected.\n",
            "HTTP request sent, awaiting response... 200 OK\n",
            "Length: 1115394 (1.1M) [text/plain]\n",
            "Saving to: ‘input.txt’\n",
            "\n",
            "\rinput.txt             0%[                    ]       0  --.-KB/s               \rinput.txt           100%[===================>]   1.06M  --.-KB/s    in 0.007s  \n",
            "\n",
            "2023-02-08 18:32:57 (155 MB/s) - ‘input.txt’ saved [1115394/1115394]\n",
            "\n"
          ]
        }
      ]
    },
    {
      "cell_type": "code",
      "source": [
        "#unique characters that occur in the dataset text\n",
        "chars=sorted(list(set(text)))\n",
        "vocab_size=len(chars)"
      ],
      "metadata": {
        "id": "TnZzCkK9Gsy2"
      },
      "execution_count": 5,
      "outputs": []
    },
    {
      "cell_type": "code",
      "source": [
        "#create a mapping from characters to integers\n",
        "#this is a (very rudimentary) tokenizer for our transformer\n",
        "#since this project will be a character-level language model, the encoding is done character-wise too.\n",
        "stoi= { ch: i for i,ch in enumerate(chars) }\n",
        "itos= { i: ch for i,ch in enumerate(chars) }\n",
        "encode= lambda s: [stoi[c] for c in s] #string to list of integers\n",
        "decode = lambda l: ''.join([itos[i] for i in l]) #list of integers to string"
      ],
      "metadata": {
        "id": "QfMZz75ZGxJd"
      },
      "execution_count": 6,
      "outputs": []
    },
    {
      "cell_type": "code",
      "source": [
        "#test-train(validation) split\n",
        "data=torch.tensor(encode(text), dtype=torch.long)\n",
        "n=int(0.9*len(data))\n",
        "train_data=data[:n]\n",
        "val_data=data[n:]"
      ],
      "metadata": {
        "id": "UEEZgXjJGzSv"
      },
      "execution_count": 7,
      "outputs": []
    },
    {
      "cell_type": "code",
      "source": [
        "#data loading\n",
        "def get_batch(split):\n",
        "  ''' Generate a batch of data with inputs x and targets y '''\n",
        "  data=train_data if split == 'train' else val_data\n",
        "  ix = torch.randint(len(data) - block_size, (batch_size,)) \n",
        "  x=torch.stack([data[i:i+block_size] for i in ix])\n",
        "  y=torch.stack([data[i+1:i+block_size+1] for i in ix])\n",
        "  x,y = x.to(device), y.to(device)\n",
        "  return x, y"
      ],
      "metadata": {
        "id": "jBmOaBvJG2JU"
      },
      "execution_count": 8,
      "outputs": []
    },
    {
      "cell_type": "code",
      "source": [
        "@torch.no_grad()\n",
        "def estimate_loss():\n",
        "  out={}\n",
        "  model.eval()\n",
        "  for split in ['train', 'val']:\n",
        "    losses=torch.zeros(eval_iters)\n",
        "    for k in range(eval_iters):\n",
        "      X,Y =get_batch(split)\n",
        "      logits, loss=model(X,Y)\n",
        "      losses[k]=loss.item()\n",
        "    out[split]=losses.mean() #avg loss\n",
        "  model.train()\n",
        "  return out\n",
        "\n"
      ],
      "metadata": {
        "id": "vjlytv79G61c"
      },
      "execution_count": 9,
      "outputs": []
    },
    {
      "cell_type": "code",
      "source": [
        "class Head(nn.Module):\n",
        "  ''' one head of self attention '''\n",
        "  def __init__(self, head_size):\n",
        "    super().__init__()\n",
        "    self.key=nn.Linear(n_embd, head_size, bias=False)\n",
        "    self.query=nn.Linear(n_embd, head_size, bias=False)\n",
        "    self.value =nn.Linear(n_embd, head_size, bias=False)\n",
        "    self.register_buffer('tril', torch.tril(torch.ones(block_size, block_size)))\n",
        "    self.dropout=nn.Dropout(dropout)\n",
        "    \n",
        "  def forward(self, x):\n",
        "    B,T,C=x.shape \n",
        "    k=self.key(x) # B,T,C\n",
        "    q=self.query(x) #B, T,C\n",
        "    \n",
        "    #here, we are essentially defining a decoder block\n",
        "    #computing attention scores\n",
        "    wei=q@k.transpose(-2, -1) *C**-0.5 #(B,T,C) @ (B,C,T) --> (B,T,T) \n",
        "    #formula used above, the root divide done to keep things scaled\n",
        "    wei=wei.masked_fill(self.tril[:T, :T]==0, float('-inf')) # (B,T,T)\n",
        "    wei=F.softmax(wei, dim=-1) #BTT\n",
        "    wei=self.dropout(wei)\n",
        "    \n",
        "    #weighted aggregation of the vals\n",
        "    v=self.value(x)\n",
        "    out=wei @ v # BTT @ BTC ---> BTC\n",
        "    return out"
      ],
      "metadata": {
        "id": "HILwvlzRG9aj"
      },
      "execution_count": 10,
      "outputs": []
    },
    {
      "cell_type": "code",
      "source": [
        "class MultiHeadAttention(nn.Module):\n",
        "  \"\"\" multiple heads of self-attention in parallel \"\"\"\n",
        "  def __init__(self, num_heads, head_size):\n",
        "    super().__init__()\n",
        "    self.heads=nn.ModuleList([Head(head_size) for _ in range(num_heads)])\n",
        "    self.proj=nn.Linear(n_embd, n_embd)\n",
        "    self.dropout=nn.Dropout(dropout)\n",
        "  def forward(self, x):\n",
        "    out=torch.cat([h(x) for h in self.heads], dim=-1) #dim -1 means Channel dimension\n",
        "    out=self.dropout(self.proj(out))\n",
        "    return out"
      ],
      "metadata": {
        "id": "NEms8FkaHCul"
      },
      "execution_count": 11,
      "outputs": []
    },
    {
      "cell_type": "code",
      "source": [
        "class FeedForward(nn.Module):\n",
        "  '''a simple linear layer followed by non-linearity'''\n",
        "  \n",
        "  def __init__(self, n_embd):\n",
        "    super().__init__()\n",
        "    self.net=nn.Sequential(\n",
        "      nn.Linear(n_embd, 4*n_embd),\n",
        "      nn.ReLU(),\n",
        "      nn.Linear(4*n_embd, n_embd), #projection layer\n",
        "      nn.Dropout(dropout)\n",
        "    )\n",
        "    \n",
        "  def forward(self, x):\n",
        "    return self.net(x)"
      ],
      "metadata": {
        "id": "M7WLC_8dHFFO"
      },
      "execution_count": 12,
      "outputs": []
    },
    {
      "cell_type": "code",
      "source": [
        "class Block(nn.Module):\n",
        "  \n",
        "  '''Transformer block: communication followed by comutation'''\n",
        "  \n",
        "  def __init__(self, n_embd, n_head):\n",
        "    super().__init__()\n",
        "    head_size=n_embd//n_head\n",
        "    self.sa=MultiHeadAttention(n_head, head_size)\n",
        "    self.ffwd=FeedForward(n_embd)\n",
        "    self.ln1=nn.LayerNorm(n_embd)\n",
        "    self.ln2=nn.LayerNorm(n_embd)\n",
        "    \n",
        "  def forward(self, x):\n",
        "    x=x+self.sa(self.ln1(x))\n",
        "    x=x+self.ffwd(self.ln2(x))\n",
        "    return x"
      ],
      "metadata": {
        "id": "ilU-M_ScHHct"
      },
      "execution_count": 13,
      "outputs": []
    },
    {
      "cell_type": "code",
      "source": [
        "#simple bigram model eventually converted into a GPT model\n",
        "class GPTLanguageModel(nn.Module):\n",
        "\n",
        "  def __init__(self): \n",
        "    super().__init__()\n",
        "    #each token directly reads off the logits for the next token from a lookup table\n",
        "    self.token_embedding_table=nn.Embedding(vocab_size, n_embd) #create a CxC embedding table\n",
        "    self.position_embedding_table=nn.Embedding(block_size, n_embd)\n",
        "    self.blocks=nn.Sequential(*[Block(n_embd, n_head=n_head) for _ in range(n_layer)])\n",
        "    self.ln_f=nn.LayerNorm(n_embd)\n",
        "    self.lm_head=nn.Linear(n_embd, vocab_size) #language model head \n",
        "    self.apply(self._init_weights)\n",
        "    \n",
        "  def _init_weights(self, module):\n",
        "    if isinstance(module, nn.Linear):\n",
        "      torch.nn.init.normal_(module.weight, mean=0.0, std=0.02)\n",
        "      if module.bias is not None:\n",
        "        torch.nn.init.zeros_(module.bias)\n",
        "      elif isinstance(module, nn.Embedding):\n",
        "        torch.nn.init.normal_(module.weight, mean=0.0, std=0.02)\n",
        "        \n",
        "  def forward(self, idx, targets=None):\n",
        "    B,T=idx.shape\n",
        "    \n",
        "    #idx and targets are (B,T) tensors\n",
        "    tok_emb=self.token_embedding_table(idx) #(B,T,C tensor (batch x time x channel, here C is the vocab_size ))\n",
        "    pos_emb=self.position_embedding_table(torch.arange(T, device=device)) #(T,C)\n",
        "    x=tok_emb+pos_emb  \n",
        "    x=self.blocks(x) \n",
        "    x=self.ln_f(x)\n",
        "    logits = self.lm_head(x) #(B, T, vocab_size )\n",
        "    if targets is None:\n",
        "      loss = None\n",
        "    else:\n",
        "      B,T,C = logits.shape\n",
        "      logits=logits.view(B*T, C) #reshaping because of the way cross_entropy takes parameters.\n",
        "      targets=targets.view(B*T)\n",
        "      loss=F.cross_entropy(logits, targets)\n",
        "\n",
        "    return logits, loss\n",
        "\n",
        "  def generate(self, idx, max_new_tokens):\n",
        "    ''' take B*T and make it into a B*T+n '''  \n",
        "    for _ in range(max_new_tokens):\n",
        "      #crop idx to the get the last block_size tokens, else positional embedding table will run out of scope, \n",
        "      idx_cond=idx[:, -block_size:]\n",
        "      # get preds\n",
        "      logits,loss=self(idx_cond)\n",
        "      # focus on last time step since it will have two dims\n",
        "      logits=logits[:, -1, :] #becomes (B,C)\n",
        "      # apply softmax to get probabilities\n",
        "      probs=F.softmax(logits, dim=-1) # (B,C)\n",
        "      # sample from dist\n",
        "      idx_next=torch.multinomial(probs, num_samples=1) # (B,1)\n",
        "      # append sampled index to the running sequence\n",
        "      idx=torch.cat((idx, idx_next), dim=1) #(B, T+1)\n",
        "    return idx"
      ],
      "metadata": {
        "id": "HSoawmeSHJuM"
      },
      "execution_count": 14,
      "outputs": []
    },
    {
      "cell_type": "code",
      "source": [
        "model=GPTLanguageModel()\n",
        "m=model.to(device)"
      ],
      "metadata": {
        "id": "vKnpnjgiHNFu"
      },
      "execution_count": 15,
      "outputs": []
    },
    {
      "cell_type": "code",
      "source": [
        "#create a PyTorch optimizer\n",
        "optimizer=torch.optim.AdamW(m.parameters(), lr=learning_rate)"
      ],
      "metadata": {
        "id": "Aauw0Wg-HSEa"
      },
      "execution_count": 16,
      "outputs": []
    },
    {
      "cell_type": "code",
      "source": [
        "#train loop\n",
        "for iter in range(max_iters):\n",
        "  \n",
        "  if iter % eval_interval==0:\n",
        "    losses=estimate_loss()\n",
        "    print(f\"step{iter}: train loss {losses['train']:.4f}, val loss{losses['val']:.4f}\")\n",
        "\n",
        "  #sample a batch of data\n",
        "  xb, yb=get_batch('train')\n",
        "  \n",
        "  #evaluate loss\n",
        "  logits, loss=m(xb,yb)\n",
        "  optimizer.zero_grad(set_to_none=True)\n",
        "  loss.backward()\n",
        "  optimizer.step()"
      ],
      "metadata": {
        "colab": {
          "base_uri": "https://localhost:8080/"
        },
        "id": "8zgtAbrRHfC1",
        "outputId": "83265945-70f8-47cb-b4a7-ff8c78d3747c"
      },
      "execution_count": 17,
      "outputs": [
        {
          "output_type": "stream",
          "name": "stdout",
          "text": [
            "step0: train loss 4.2210, val loss4.2218\n",
            "step500: train loss 1.9981, val loss2.0755\n",
            "step1000: train loss 1.6027, val loss1.7864\n",
            "step1500: train loss 1.4343, val loss1.6445\n",
            "step2000: train loss 1.3401, val loss1.5704\n",
            "step2500: train loss 1.2760, val loss1.5298\n",
            "step3000: train loss 1.2264, val loss1.4966\n",
            "step3500: train loss 1.1850, val loss1.4916\n",
            "step4000: train loss 1.1516, val loss1.4893\n",
            "step4500: train loss 1.1140, val loss1.4830\n"
          ]
        }
      ]
    },
    {
      "cell_type": "code",
      "source": [
        "#generating from the model\n",
        "context=torch.zeros((1,1), dtype=torch.long, device=device)\n",
        "print(decode(m.generate(context, max_new_tokens=500)[0].tolist()))\n",
        "# open('output.txt', 'w').write(decode(m.generate(context, max_new_tokens=10000)[0].tolist()))"
      ],
      "metadata": {
        "colab": {
          "base_uri": "https://localhost:8080/"
        },
        "id": "KL4SmSObHi6-",
        "outputId": "eacd2b3c-1d72-4d27-bf4b-bb5faa2a71ca"
      },
      "execution_count": 19,
      "outputs": [
        {
          "output_type": "stream",
          "name": "stdout",
          "text": [
            "\n",
            "Think not, how stirs it too.\n",
            "\n",
            "PERDITA:\n",
            "It is; it is this, it is; I look, madam.\n",
            "\n",
            "ANGELO:\n",
            "I thrive show that brought not for you.\n",
            "Can I be assured to o'er-ry and dispatch my matters?\n",
            "\n",
            "ANGELO:\n",
            "Since her brother, then even a feath stand is all.\n",
            "\n",
            "LUCIO:\n",
            "But if any of wretched lord watch their deaths\n",
            "forfence what though traitor shall and sland fall upounted\n",
            "Night death.\n",
            "\n",
            "ISABELLA:\n",
            "I  have no I releatemble forfeit to see\n",
            "The woman the accide punity.\n",
            "\n",
            "LUCIO:\n",
            "Well, as foul I came for carry\n",
            "Was traitor \n"
          ]
        }
      ]
    },
    {
      "cell_type": "code",
      "source": [
        "torch.save(model.state_dict(), 'checkpoint.pth')\n",
        "from google.colab import files\n",
        "files.download('checkpoint.pth')"
      ],
      "metadata": {
        "colab": {
          "base_uri": "https://localhost:8080/",
          "height": 17
        },
        "id": "U5iNHrQSg626",
        "outputId": "097fc710-1b09-4d9a-9853-30f27e4afc13"
      },
      "execution_count": 22,
      "outputs": [
        {
          "output_type": "display_data",
          "data": {
            "text/plain": [
              "<IPython.core.display.Javascript object>"
            ],
            "application/javascript": [
              "\n",
              "    async function download(id, filename, size) {\n",
              "      if (!google.colab.kernel.accessAllowed) {\n",
              "        return;\n",
              "      }\n",
              "      const div = document.createElement('div');\n",
              "      const label = document.createElement('label');\n",
              "      label.textContent = `Downloading \"${filename}\": `;\n",
              "      div.appendChild(label);\n",
              "      const progress = document.createElement('progress');\n",
              "      progress.max = size;\n",
              "      div.appendChild(progress);\n",
              "      document.body.appendChild(div);\n",
              "\n",
              "      const buffers = [];\n",
              "      let downloaded = 0;\n",
              "\n",
              "      const channel = await google.colab.kernel.comms.open(id);\n",
              "      // Send a message to notify the kernel that we're ready.\n",
              "      channel.send({})\n",
              "\n",
              "      for await (const message of channel.messages) {\n",
              "        // Send a message to notify the kernel that we're ready.\n",
              "        channel.send({})\n",
              "        if (message.buffers) {\n",
              "          for (const buffer of message.buffers) {\n",
              "            buffers.push(buffer);\n",
              "            downloaded += buffer.byteLength;\n",
              "            progress.value = downloaded;\n",
              "          }\n",
              "        }\n",
              "      }\n",
              "      const blob = new Blob(buffers, {type: 'application/binary'});\n",
              "      const a = document.createElement('a');\n",
              "      a.href = window.URL.createObjectURL(blob);\n",
              "      a.download = filename;\n",
              "      div.appendChild(a);\n",
              "      a.click();\n",
              "      div.remove();\n",
              "    }\n",
              "  "
            ]
          },
          "metadata": {}
        },
        {
          "output_type": "display_data",
          "data": {
            "text/plain": [
              "<IPython.core.display.Javascript object>"
            ],
            "application/javascript": [
              "download(\"download_a7a3671e-4b15-474e-984d-66640c924a1c\", \"checkpoint.pth\", 52672089)"
            ]
          },
          "metadata": {}
        }
      ]
    },
    {
      "cell_type": "code",
      "source": [],
      "metadata": {
        "id": "Uk2SkkrVjqqH"
      },
      "execution_count": null,
      "outputs": []
    }
  ]
}
